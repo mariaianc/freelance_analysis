{
 "cells": [
  {
   "cell_type": "markdown",
   "id": "2dbbc809",
   "metadata": {},
   "source": [
    "# Stage 2: OPTICS Clustering\n",
    "This notebook applies the OPTICS algorithm to the freelancer dataset and visualizes the clustering results."
   ]
  },
  {
   "cell_type": "code",
   "execution_count": null,
   "id": "0f99d51f",
   "metadata": {},
   "outputs": [],
   "source": [
    "import pandas as pd\n",
    "import matplotlib.pyplot as plt\n",
    "import seaborn as sns\n",
    "from sklearn.preprocessing import StandardScaler\n",
    "from sklearn.decomposition import PCA\n",
    "from sklearn.cluster import OPTICS\n",
    "from sklearn.metrics import silhouette_score\n",
    "\n",
    "# Load cleaned dataset (as used in KMeans)\n",
    "df = pd.read_csv(\"../data/freelancer_earnings_bd_cleaned.csv\")\n",
    "df.head()\n"
   ]
  },
  {
   "cell_type": "markdown",
   "id": "416a8285",
   "metadata": {},
   "source": [
    "## Feature Selection and Scaling"
   ]
  },
  {
   "cell_type": "code",
   "execution_count": null,
   "id": "d1419e85",
   "metadata": {},
   "outputs": [],
   "source": [
    "features = ['job_completed', 'earnings_usd', 'hourly_rate', 'job_success_rate',\n",
    "            'client_rating', 'job_duration_days', 'rehire_rate', 'marketing_spend']\n",
    "X = df[features]\n",
    "scaler = StandardScaler()\n",
    "X_scaled = scaler.fit_transform(X)\n"
   ]
  },
  {
   "cell_type": "markdown",
   "id": "dd7d3fe0",
   "metadata": {},
   "source": [
    "## Applying OPTICS Clustering"
   ]
  },
  {
   "cell_type": "code",
   "execution_count": null,
   "id": "0de49f61",
   "metadata": {},
   "outputs": [],
   "source": [
    "optics = OPTICS(min_samples=5, xi=0.05, min_cluster_size=0.05)\n",
    "labels = optics.fit_predict(X_scaled)\n",
    "df['optics_cluster'] = labels\n",
    "\n",
    "n_clusters = len(set(labels)) - (1 if -1 in labels else 0)\n",
    "silhouette = silhouette_score(X_scaled, labels) if n_clusters > 1 else None\n",
    "\n",
    "print(f\"Clusters found: {n_clusters}\")\n",
    "print(f\"Silhouette Score: {silhouette:.2f}\" if silhouette else \"Silhouette Score: N/A\")\n"
   ]
  },
  {
   "cell_type": "markdown",
   "id": "79148e22",
   "metadata": {},
   "source": [
    "## PCA Visualization of OPTICS Clusters"
   ]
  },
  {
   "cell_type": "code",
   "execution_count": null,
   "id": "f8f3f8b2",
   "metadata": {},
   "outputs": [],
   "source": [
    "pca = PCA(n_components=2)\n",
    "X_pca = pca.fit_transform(X_scaled)\n",
    "df['pca1'] = X_pca[:, 0]\n",
    "df['pca2'] = X_pca[:, 1]\n",
    "\n",
    "plt.figure(figsize=(10, 6))\n",
    "sns.scatterplot(data=df, x='pca1', y='pca2', hue='optics_cluster', palette='tab10')\n",
    "plt.title(f'OPTICS Clustering (PCA Projection)\\nClusters: {n_clusters}' +\n",
    "          (f' | Silhouette: {silhouette:.2f}' if silhouette else ''))\n",
    "plt.xlabel('PCA Component 1')\n",
    "plt.ylabel('PCA Component 2')\n",
    "plt.legend(title='Cluster', bbox_to_anchor=(1.05, 1), loc='upper left')\n",
    "plt.tight_layout()\n",
    "plt.show()\n"
   ]
  }
 ],
 "metadata": {},
 "nbformat": 4,
 "nbformat_minor": 5
}
